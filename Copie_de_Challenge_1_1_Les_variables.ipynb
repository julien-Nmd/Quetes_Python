{
  "cells": [
    {
      "cell_type": "markdown",
      "metadata": {
        "id": "view-in-github",
        "colab_type": "text"
      },
      "source": [
        "<a href=\"https://colab.research.google.com/github/julien-Nmd/Quetes_Python/blob/main/Copie_de_Challenge_1_1_Les_variables.ipynb\" target=\"_parent\"><img src=\"https://colab.research.google.com/assets/colab-badge.svg\" alt=\"Open In Colab\"/></a>"
      ]
    },
    {
      "cell_type": "markdown",
      "metadata": {
        "id": "p0IY6ccQKu9_"
      },
      "source": [
        "# 1. Les variables"
      ]
    },
    {
      "cell_type": "markdown",
      "metadata": {
        "id": "chbM0tgeZpEf"
      },
      "source": [
        "#### 1.1 Dans les cellules de code ci-dessous, quel est, pour chaque cellule, le type de chaque variable ?"
      ]
    },
    {
      "cell_type": "code",
      "execution_count": null,
      "metadata": {
        "id": "WjJmN0AxZBLw"
      },
      "outputs": [],
      "source": [
        "count = 5 # int"
      ]
    },
    {
      "cell_type": "code",
      "execution_count": null,
      "metadata": {
        "id": "latNGJ8caLkY"
      },
      "outputs": [],
      "source": [
        "greeting = \"Hello World\" # str"
      ]
    },
    {
      "cell_type": "code",
      "execution_count": null,
      "metadata": {
        "id": "tf7IgsXZa15e"
      },
      "outputs": [],
      "source": [
        "price = 2.5 # float"
      ]
    },
    {
      "cell_type": "code",
      "execution_count": null,
      "metadata": {
        "id": "lpPCkWfWbY3N"
      },
      "outputs": [],
      "source": [
        "is_active = True # bool"
      ]
    },
    {
      "cell_type": "markdown",
      "metadata": {
        "id": "J-YXtU1Yb2pi"
      },
      "source": [
        "#### 1.2 Maintenant, vous allez devoir convertir des objets d'un certain type, en un autre type d'objet."
      ]
    },
    {
      "cell_type": "markdown",
      "metadata": {
        "id": "yerUe3q7cMmR"
      },
      "source": [
        "Convertissez la variable `count` en float."
      ]
    },
    {
      "cell_type": "code",
      "execution_count": 1,
      "metadata": {
        "id": "yVs2Ry3NbpEW"
      },
      "outputs": [],
      "source": [
        "count = 5\n",
        "count = float(age)"
      ]
    },
    {
      "cell_type": "markdown",
      "metadata": {
        "id": "q0LodnjUcPyl"
      },
      "source": [
        "Convertissez la variable `price` en int"
      ]
    },
    {
      "cell_type": "code",
      "execution_count": 2,
      "metadata": {
        "id": "0Ffo568UcJBg",
        "colab": {
          "base_uri": "https://localhost:8080/"
        },
        "outputId": "79f70229-e0bb-430e-a381-4c06f4db5ea9"
      },
      "outputs": [
        {
          "output_type": "stream",
          "name": "stdout",
          "text": [
            "5\n"
          ]
        }
      ],
      "source": [
        "price = 5.4\n",
        "price = int(price)\n",
        "print(price)"
      ]
    },
    {
      "cell_type": "markdown",
      "metadata": {
        "id": "ZYsPxH7vcho9"
      },
      "source": [
        "Que pouvez-vous remarquer ?"
      ]
    },
    {
      "cell_type": "markdown",
      "metadata": {
        "id": "Le9gddo6ckPP"
      },
      "source": [
        "Réponse:\n",
        "le float a été arrondi à l'entier le plus proche."
      ]
    },
    {
      "cell_type": "markdown",
      "metadata": {
        "id": "YmPGqs_FcmZh"
      },
      "source": [
        "Trouvez le moyen d'arrondir la variable `temperature`."
      ]
    },
    {
      "cell_type": "code",
      "execution_count": 4,
      "metadata": {
        "id": "UUInqFe9cbMJ",
        "colab": {
          "base_uri": "https://localhost:8080/"
        },
        "outputId": "87b617b6-1f7e-4639-8db2-a36f482bbb7e"
      },
      "outputs": [
        {
          "output_type": "stream",
          "name": "stdout",
          "text": [
            "5\n",
            "<class 'int'>\n"
          ]
        }
      ],
      "source": [
        "temperature = 5.3\n",
        "temperature = int(temperature)\n",
        "print(temperature)\n",
        "print(type(temperature))"
      ]
    },
    {
      "cell_type": "markdown",
      "metadata": {
        "id": "OGJ4a9Abc7Jj"
      },
      "source": [
        "Après avoir arrondi la variable `temperature`, est-ce que c'est toujours un `float` ?"
      ]
    },
    {
      "cell_type": "markdown",
      "metadata": {
        "id": "KNqAr-hyHfmZ"
      },
      "source": [
        "Réponse:Non car por l'arrondir, on a changé son type de variable, c'est un integer"
      ]
    },
    {
      "cell_type": "markdown",
      "metadata": {
        "id": "deL_WAeRdN8Y"
      },
      "source": [
        "Ci-dessous, est-ce que height est un `int` ?"
      ]
    },
    {
      "cell_type": "code",
      "execution_count": 5,
      "metadata": {
        "id": "BZqcem6pcvWh",
        "colab": {
          "base_uri": "https://localhost:8080/"
        },
        "outputId": "6cbb0895-fe86-4679-e4fb-d60d3b1866a9"
      },
      "outputs": [
        {
          "output_type": "stream",
          "name": "stdout",
          "text": [
            "<class 'float'>\n"
          ]
        }
      ],
      "source": [
        "height = 6.0\n",
        "print(type(height))"
      ]
    },
    {
      "cell_type": "markdown",
      "metadata": {
        "id": "JxlIV2p8HfmZ"
      },
      "source": [
        "Réponse:Non car il est marqué avec une décimale même si la décimale est nulle, python le considère en float."
      ]
    },
    {
      "cell_type": "markdown",
      "metadata": {
        "id": "9KYIUuQ2HfmZ"
      },
      "source": [
        "# 2. Les entrées/sorties"
      ]
    },
    {
      "cell_type": "markdown",
      "metadata": {
        "id": "OQt_WH0qHfmZ"
      },
      "source": [
        "Affichez le message suivant : \"Hello world\"."
      ]
    },
    {
      "cell_type": "code",
      "execution_count": 6,
      "metadata": {
        "id": "ceOB9cK3HfmZ",
        "colab": {
          "base_uri": "https://localhost:8080/"
        },
        "outputId": "88231f2a-e649-41d4-8f1a-1a880ebfa841"
      },
      "outputs": [
        {
          "output_type": "stream",
          "name": "stdout",
          "text": [
            "Hello world\n"
          ]
        }
      ],
      "source": [
        "print(\"Hello world\")"
      ]
    },
    {
      "cell_type": "markdown",
      "metadata": {
        "id": "Lx7lv0-THfmZ"
      },
      "source": [
        "Demandez à l'utilisateur s'il fait beau aujourd'hui."
      ]
    },
    {
      "cell_type": "code",
      "execution_count": 8,
      "metadata": {
        "id": "9ZKeGRJWHfmZ",
        "colab": {
          "base_uri": "https://localhost:8080/"
        },
        "outputId": "7bc06d7b-d9f6-461b-abdd-6ab849660b88"
      },
      "outputs": [
        {
          "name": "stdout",
          "output_type": "stream",
          "text": [
            "Quel temps fait-il aujourd'hui ?beau\n"
          ]
        }
      ],
      "source": [
        "temps = input(\"Quel temps fait-il aujourd'hui ?\")"
      ]
    },
    {
      "cell_type": "markdown",
      "metadata": {
        "id": "xVW_TJS7HfmZ"
      },
      "source": [
        "# 3. Tout ensemble !"
      ]
    },
    {
      "cell_type": "markdown",
      "metadata": {
        "id": "243C9wQAHfmZ"
      },
      "source": [
        "Maintenant tu vas combiner tout ce que tu as appris jusqu'à présent !"
      ]
    },
    {
      "cell_type": "markdown",
      "metadata": {
        "id": "WaUho8b2HfmZ"
      },
      "source": [
        "#### 3.1 Première interaction avec l'utilisateur\n",
        "Réalisez les étapes suivantes dans l'ordre :\n",
        " - Demande à l'utilisateur son age et stocke-le dans une variable de type `ìnt`.\n",
        " - Vérifie le type de la variable.\n",
        " - Affiche l'âge de l'utilisateur."
      ]
    },
    {
      "cell_type": "code",
      "execution_count": 13,
      "metadata": {
        "id": "KnRegvf4HfmZ",
        "colab": {
          "base_uri": "https://localhost:8080/"
        },
        "outputId": "ab6acb09-1672-4365-b974-fb62bb8108ba"
      },
      "outputs": [
        {
          "output_type": "stream",
          "name": "stdout",
          "text": [
            "Bonjour, quel age avez-vous ?45\n",
            "<class 'int'>\n",
            "Votre age est :\n",
            "45\n"
          ]
        }
      ],
      "source": [
        "age = input(\"Bonjour, quel age avez-vous ?\")\n",
        "age = int(age)\n",
        "print(type(age))\n",
        "print(\"Votre age est :\")\n",
        "print(age)"
      ]
    },
    {
      "cell_type": "markdown",
      "metadata": {
        "id": "JyW3mtb5HfmZ"
      },
      "source": [
        "#### 3.2 Inversion de deux variables\n",
        "\n",
        "Réalisez les étapes suivantes dans l'ordre :\n",
        " - Demande à l'utilisateur de rentrer deux valeurs et stocke-les dans deux variables différentes (par exemple `x` et `y`).\n",
        " - Effectue l'échange des valeurs entre ces deux variables.\n",
        " - Affiche la valeur des deux variables."
      ]
    },
    {
      "cell_type": "code",
      "execution_count": 30,
      "metadata": {
        "id": "0ZG4el4bHfma",
        "colab": {
          "base_uri": "https://localhost:8080/"
        },
        "outputId": "42425750-dea7-4b81-8ed7-17047a1d9004"
      },
      "outputs": [
        {
          "output_type": "stream",
          "name": "stdout",
          "text": [
            "Donnez moi une valeur pour x :3\n",
            "Donnez moi une valeur pour y :5\n",
            "Avant l'échange :\n",
            "x = 3\n",
            "y = 5\n",
            "Après l'échange :\n",
            "x = 5\n",
            "y = 3\n"
          ]
        }
      ],
      "source": [
        "from re import X\n",
        "x = input(\"Donnez moi une valeur pour x :\")\n",
        "y = input(\"Donnez moi une valeur pour y :\")\n",
        "print(\"Avant l'échange :\")\n",
        "print(\"x = \" + x)\n",
        "print(\"y = \" + y)\n",
        "# on met la valeur de x dans une autre variable\n",
        "temp = x\n",
        "x = y\n",
        "y = temp\n",
        "# On vérifie en affichant les nouvelles valeurs\n",
        "print(\"Après l'échange :\")\n",
        "print(\"x = \" + x)\n",
        "print(\"y = \"+ y)"
      ]
    }
  ],
  "metadata": {
    "colab": {
      "provenance": [],
      "include_colab_link": true
    },
    "kernelspec": {
      "display_name": "Python 3",
      "name": "python3"
    },
    "language_info": {
      "name": "python"
    }
  },
  "nbformat": 4,
  "nbformat_minor": 0
}